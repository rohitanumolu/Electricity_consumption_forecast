{
 "cells": [
  {
   "cell_type": "code",
   "execution_count": 327,
   "id": "64103579",
   "metadata": {},
   "outputs": [],
   "source": [
    "import pandas as pd\n",
    "import numpy as np \n",
    "import matplotlib.pyplot as plt\n",
    "from datetime import timedelta\n",
    "from datetime import datetime\n",
    "from datetime import date\n",
    "pd.set_option('display.max_columns', None)"
   ]
  },
  {
   "cell_type": "code",
   "execution_count": 198,
   "id": "20f0e9f8",
   "metadata": {},
   "outputs": [],
   "source": [
    "df = pd.read_csv('household_power_consumption.txt', sep=';', low_memory=False)"
   ]
  },
  {
   "cell_type": "code",
   "execution_count": 199,
   "id": "301ca0cf",
   "metadata": {},
   "outputs": [
    {
     "data": {
      "text/html": [
       "<div>\n",
       "<style scoped>\n",
       "    .dataframe tbody tr th:only-of-type {\n",
       "        vertical-align: middle;\n",
       "    }\n",
       "\n",
       "    .dataframe tbody tr th {\n",
       "        vertical-align: top;\n",
       "    }\n",
       "\n",
       "    .dataframe thead th {\n",
       "        text-align: right;\n",
       "    }\n",
       "</style>\n",
       "<table border=\"1\" class=\"dataframe\">\n",
       "  <thead>\n",
       "    <tr style=\"text-align: right;\">\n",
       "      <th></th>\n",
       "      <th>Date</th>\n",
       "      <th>Time</th>\n",
       "      <th>Global_active_power</th>\n",
       "      <th>Global_reactive_power</th>\n",
       "      <th>Voltage</th>\n",
       "      <th>Global_intensity</th>\n",
       "      <th>Sub_metering_1</th>\n",
       "      <th>Sub_metering_2</th>\n",
       "      <th>Sub_metering_3</th>\n",
       "    </tr>\n",
       "  </thead>\n",
       "  <tbody>\n",
       "    <tr>\n",
       "      <th>0</th>\n",
       "      <td>16/12/2006</td>\n",
       "      <td>17:24:00</td>\n",
       "      <td>4.216</td>\n",
       "      <td>0.418</td>\n",
       "      <td>234.840</td>\n",
       "      <td>18.400</td>\n",
       "      <td>0.000</td>\n",
       "      <td>1.000</td>\n",
       "      <td>17.0</td>\n",
       "    </tr>\n",
       "    <tr>\n",
       "      <th>1</th>\n",
       "      <td>16/12/2006</td>\n",
       "      <td>17:25:00</td>\n",
       "      <td>5.360</td>\n",
       "      <td>0.436</td>\n",
       "      <td>233.630</td>\n",
       "      <td>23.000</td>\n",
       "      <td>0.000</td>\n",
       "      <td>1.000</td>\n",
       "      <td>16.0</td>\n",
       "    </tr>\n",
       "    <tr>\n",
       "      <th>2</th>\n",
       "      <td>16/12/2006</td>\n",
       "      <td>17:26:00</td>\n",
       "      <td>5.374</td>\n",
       "      <td>0.498</td>\n",
       "      <td>233.290</td>\n",
       "      <td>23.000</td>\n",
       "      <td>0.000</td>\n",
       "      <td>2.000</td>\n",
       "      <td>17.0</td>\n",
       "    </tr>\n",
       "    <tr>\n",
       "      <th>3</th>\n",
       "      <td>16/12/2006</td>\n",
       "      <td>17:27:00</td>\n",
       "      <td>5.388</td>\n",
       "      <td>0.502</td>\n",
       "      <td>233.740</td>\n",
       "      <td>23.000</td>\n",
       "      <td>0.000</td>\n",
       "      <td>1.000</td>\n",
       "      <td>17.0</td>\n",
       "    </tr>\n",
       "    <tr>\n",
       "      <th>4</th>\n",
       "      <td>16/12/2006</td>\n",
       "      <td>17:28:00</td>\n",
       "      <td>3.666</td>\n",
       "      <td>0.528</td>\n",
       "      <td>235.680</td>\n",
       "      <td>15.800</td>\n",
       "      <td>0.000</td>\n",
       "      <td>1.000</td>\n",
       "      <td>17.0</td>\n",
       "    </tr>\n",
       "  </tbody>\n",
       "</table>\n",
       "</div>"
      ],
      "text/plain": [
       "         Date      Time Global_active_power Global_reactive_power  Voltage  \\\n",
       "0  16/12/2006  17:24:00               4.216                 0.418  234.840   \n",
       "1  16/12/2006  17:25:00               5.360                 0.436  233.630   \n",
       "2  16/12/2006  17:26:00               5.374                 0.498  233.290   \n",
       "3  16/12/2006  17:27:00               5.388                 0.502  233.740   \n",
       "4  16/12/2006  17:28:00               3.666                 0.528  235.680   \n",
       "\n",
       "  Global_intensity Sub_metering_1 Sub_metering_2  Sub_metering_3  \n",
       "0           18.400          0.000          1.000            17.0  \n",
       "1           23.000          0.000          1.000            16.0  \n",
       "2           23.000          0.000          2.000            17.0  \n",
       "3           23.000          0.000          1.000            17.0  \n",
       "4           15.800          0.000          1.000            17.0  "
      ]
     },
     "execution_count": 199,
     "metadata": {},
     "output_type": "execute_result"
    }
   ],
   "source": [
    "df.head()"
   ]
  },
  {
   "cell_type": "code",
   "execution_count": 200,
   "id": "6c274fd5",
   "metadata": {},
   "outputs": [
    {
     "data": {
      "text/plain": [
       "Date                      object\n",
       "Time                      object\n",
       "Global_active_power       object\n",
       "Global_reactive_power     object\n",
       "Voltage                   object\n",
       "Global_intensity          object\n",
       "Sub_metering_1            object\n",
       "Sub_metering_2            object\n",
       "Sub_metering_3           float64\n",
       "dtype: object"
      ]
     },
     "execution_count": 200,
     "metadata": {},
     "output_type": "execute_result"
    }
   ],
   "source": [
    "df.dtypes"
   ]
  },
  {
   "cell_type": "code",
   "execution_count": 201,
   "id": "b7323b41",
   "metadata": {},
   "outputs": [
    {
     "data": {
      "text/plain": [
       "(2075259, 9)"
      ]
     },
     "execution_count": 201,
     "metadata": {},
     "output_type": "execute_result"
    }
   ],
   "source": [
    "df.shape"
   ]
  },
  {
   "cell_type": "markdown",
   "id": "2e3df63a",
   "metadata": {},
   "source": [
    "#### Memory check and data types change"
   ]
  },
  {
   "cell_type": "code",
   "execution_count": 202,
   "id": "ce7a3a7d",
   "metadata": {},
   "outputs": [
    {
     "name": "stdout",
     "output_type": "stream",
     "text": [
      "Memory usage of dataframe before any changes is 142.50 MB\n"
     ]
    }
   ],
   "source": [
    "memory = df.memory_usage().sum() / 1024**2\n",
    "print('Memory usage of dataframe before any changes is {:.2f} MB'.format(memory))"
   ]
  },
  {
   "cell_type": "code",
   "execution_count": 203,
   "id": "512b8bd7",
   "metadata": {},
   "outputs": [
    {
     "name": "stdout",
     "output_type": "stream",
     "text": [
      "---------\n",
      "Date : object\n",
      "New col type: datetime64[ns]\n",
      "---------\n",
      "Time : object\n",
      "New col type: object\n",
      "---------\n",
      "Global_active_power : object\n",
      "New col type: float16\n",
      "---------\n",
      "Global_reactive_power : object\n",
      "New col type: float16\n",
      "---------\n",
      "Voltage : object\n",
      "New col type: float16\n",
      "---------\n",
      "Global_intensity : object\n",
      "New col type: float16\n",
      "---------\n",
      "Sub_metering_1 : object\n",
      "New col type: Int8\n",
      "---------\n",
      "Sub_metering_2 : object\n",
      "New col type: Int8\n",
      "---------\n",
      "Sub_metering_3 : float64\n",
      "New col type: Int8\n"
     ]
    }
   ],
   "source": [
    "for col in df.columns:\n",
    "    col_type = df[col].dtype\n",
    "    \n",
    "    print('---------')\n",
    "    if col  == 'Date' and col_type == 'object':\n",
    "        print(f\"{col} : {col_type}\")\n",
    "        df[col] = df[col].apply(lambda x: datetime.strptime(x, \"%d/%m/%Y\"))\n",
    "        #df[col] = pd.to_datetime(df[col], infer_datetime_format=True)\n",
    "        print(f\"New col type: {df[col].dtype}\")\n",
    "              \n",
    "    elif col  == 'Time' and col_type == 'object':\n",
    "        print(f\"{col} : {col_type}\")\n",
    "        df[col] = df[col].apply(lambda x: datetime.strptime(x, '%H:%M:%S').time())\n",
    "        #df[col] = pd.to_datetime(df[col], format='%H:%M')\n",
    "        print(f\"New col type: {df[col].dtype}\")\n",
    "              \n",
    "    elif col.startswith('Sub'):\n",
    "        print(f\"{col} : {col_type}\")\n",
    "        df[col] = pd.to_numeric(df[col], errors='coerce')\n",
    "        c_min, c_max = df[col].min(), df[col].max()\n",
    "        if c_min > np.iinfo(np.int8).min and c_max < np.iinfo(np.int8).max:\n",
    "            df[col] = df[col].astype(pd.Int8Dtype(), errors='ignore')\n",
    "        elif c_min > np.iinfo(np.int16).min and c_max < np.iinfo(np.int16).max:\n",
    "            df[col] = df[col].astype(pd.Int16Dtype(), errors='ignore')\n",
    "        elif c_min > np.iinfo(np.int32).min and c_max < np.iinfo(np.int32).max:\n",
    "            df[col] = df[col].astype(pd.Int32Dtype(), errors='ignore')\n",
    "        elif c_min > np.iinfo(np.int64).min and c_max < np.iinfo(np.int64).max:\n",
    "            df[col] = df[col].astype(pd.Int64Dtype(), errors='ignore')\n",
    "        print(f\"New col type: {df[col].dtype}\")\n",
    "              \n",
    "    else:\n",
    "        print(f\"{col} : {col_type}\")\n",
    "        df[col] = pd.to_numeric(df[col], errors='coerce')\n",
    "        c_min, c_max = df[col].min(), df[col].max()\n",
    "        if c_min > np.finfo(np.float16).min and c_max < np.finfo(np.float16).max:\n",
    "            df[col] = df[col].astype(np.float16)\n",
    "        elif c_min > np.finfo(np.float32).min and c_max < np.finfo(np.float32).max:\n",
    "            df[col] = df[col].astype(np.float32)\n",
    "        else:\n",
    "            df[col] = df[col].astype(np.float64)\n",
    "        print(f\"New col type: {df[col].dtype}\")"
   ]
  },
  {
   "cell_type": "code",
   "execution_count": 204,
   "id": "f9eb8da3",
   "metadata": {},
   "outputs": [
    {
     "name": "stdout",
     "output_type": "stream",
     "text": [
      "New Memory usage of dataframe after changes is 59.37 MB\n"
     ]
    }
   ],
   "source": [
    "new_memory = df.memory_usage().sum() / 1024**2\n",
    "print('New Memory usage of dataframe after changes is {:.2f} MB'.format(new_memory))"
   ]
  },
  {
   "cell_type": "code",
   "execution_count": 205,
   "id": "e2ab5435",
   "metadata": {},
   "outputs": [
    {
     "data": {
      "text/plain": [
       "Date                     datetime64[ns]\n",
       "Time                             object\n",
       "Global_active_power             float16\n",
       "Global_reactive_power           float16\n",
       "Voltage                         float16\n",
       "Global_intensity                float16\n",
       "Sub_metering_1                     Int8\n",
       "Sub_metering_2                     Int8\n",
       "Sub_metering_3                     Int8\n",
       "dtype: object"
      ]
     },
     "execution_count": 205,
     "metadata": {},
     "output_type": "execute_result"
    }
   ],
   "source": [
    "df.dtypes"
   ]
  },
  {
   "cell_type": "code",
   "execution_count": 206,
   "id": "bca91a54",
   "metadata": {},
   "outputs": [],
   "source": [
    "def combine(date, time):\n",
    "    return datetime.combine(date,time)\n",
    "\n",
    "df['DateTime'] = df.apply(lambda row: combine(row['Date'], row['Time']), axis=1)"
   ]
  },
  {
   "cell_type": "code",
   "execution_count": 207,
   "id": "9024bc20",
   "metadata": {},
   "outputs": [
    {
     "name": "stdout",
     "output_type": "stream",
     "text": [
      "New Memory usage of dataframe after changes is 75.21 MB\n"
     ]
    }
   ],
   "source": [
    "new_memory = df.memory_usage().sum() / 1024**2\n",
    "print('New Memory usage of dataframe after changes is {:.2f} MB'.format(new_memory))"
   ]
  },
  {
   "cell_type": "markdown",
   "id": "43aca2f3",
   "metadata": {},
   "source": [
    "### Checking missing values"
   ]
  },
  {
   "cell_type": "code",
   "execution_count": 213,
   "id": "ab68984e",
   "metadata": {},
   "outputs": [
    {
     "name": "stdout",
     "output_type": "stream",
     "text": [
      "2073600 |||| 2073600\n",
      "Same lenght - so no missing values\n",
      "====================================================\n",
      "Minimum and maximum time stamps in the data\n",
      "2006-12-17 00:00:00 |||| 2010-11-25 23:59:00\n"
     ]
    }
   ],
   "source": [
    "# Any missing values in time frequency\n",
    "\n",
    "min_stamp, max_stamp = df.DateTime.min(), df.DateTime.max()\n",
    "complete_date_range = pd.date_range(start=min_stamp, end=max_stamp, freq='T')\n",
    "\n",
    "print(len(complete_date_range), '||||', len(df.DateTime.values))\n",
    "print('Same lenght - so no missing values')\n",
    "print('====================================================')\n",
    "print('Minimum and maximum time stamps in the data')\n",
    "print(min_stamp, '||||', max_stamp)"
   ]
  },
  {
   "cell_type": "markdown",
   "id": "740568b1",
   "metadata": {},
   "source": [
    "- We do not have all day information for dates `2006-12-16` and `2010-11-26`\n",
    "- To make some daily or hourly studies, it is better to drop them. (Will drop them later) "
   ]
  },
  {
   "cell_type": "code",
   "execution_count": 214,
   "id": "c0f8f8a7",
   "metadata": {},
   "outputs": [
    {
     "data": {
      "text/plain": [
       "Date                          0\n",
       "Time                          0\n",
       "Global_active_power       25979\n",
       "Global_reactive_power     25979\n",
       "Voltage                   25979\n",
       "Global_intensity          25979\n",
       "Sub_metering_1            25979\n",
       "Sub_metering_2            25979\n",
       "Sub_metering_3            25979\n",
       "DateTime                      0\n",
       "Global_active_energy      25979\n",
       "Global_reactive_energy    25979\n",
       "dtype: int64"
      ]
     },
     "execution_count": 214,
     "metadata": {},
     "output_type": "execute_result"
    }
   ],
   "source": [
    "df.isnull().sum()"
   ]
  },
  {
   "cell_type": "code",
   "execution_count": 215,
   "id": "d80cb3df",
   "metadata": {},
   "outputs": [
    {
     "data": {
      "text/plain": [
       "0.012528452932098765"
      ]
     },
     "execution_count": 215,
     "metadata": {},
     "output_type": "execute_result"
    }
   ],
   "source": [
    "df.Global_active_power.isnull().sum()/len(df) "
   ]
  },
  {
   "cell_type": "markdown",
   "id": "3699e41b",
   "metadata": {},
   "source": [
    "- We see around 1.25% missing values in all columns (not including the date time)"
   ]
  },
  {
   "cell_type": "markdown",
   "id": "59fc4477",
   "metadata": {},
   "source": [
    "### Creating New Columns\n",
    "\n",
    "- Our Sub metering columns and our target should be of the units Wh or KWh. \n",
    "- We need to convert the power columns which are in KW units to energy which would be in KWh\n",
    "- This can be done diving the power by 60 as our frequency is one minute"
   ]
  },
  {
   "cell_type": "code",
   "execution_count": 216,
   "id": "46abc04d",
   "metadata": {},
   "outputs": [],
   "source": [
    "df['Global_active_energy'] = df.Global_active_power*1000/60\n",
    "df['Global_reactive_energy'] = df.Global_reactive_power*1000/60"
   ]
  },
  {
   "cell_type": "markdown",
   "id": "c77a8a89",
   "metadata": {},
   "source": [
    "Before we fill null values, we try to understand more about the data. We also drop the first and last days, as they dont have the whole data"
   ]
  },
  {
   "cell_type": "code",
   "execution_count": 217,
   "id": "428f4234",
   "metadata": {},
   "outputs": [],
   "source": [
    "df = df.loc[(df['DateTime'].dt.date > date(2006, 12, 16)) & \n",
    "             (df['DateTime'].dt.date < date(2010, 11, 26)), : ]"
   ]
  },
  {
   "cell_type": "markdown",
   "id": "f85cc419",
   "metadata": {},
   "source": [
    "#### Groupbys \n",
    "\n",
    "Creating hourly and daily grouped data to understand seasonality, as we cann see that evident in a 1 min interval plots"
   ]
  },
  {
   "cell_type": "markdown",
   "id": "9d36abe5",
   "metadata": {},
   "source": [
    "### Daily"
   ]
  },
  {
   "cell_type": "code",
   "execution_count": 218,
   "id": "3ab4e5cb",
   "metadata": {},
   "outputs": [],
   "source": [
    "daily = df.fillna(-10).groupby(df['DateTime'].dt.date).agg({'Global_active_power':'mean', 'Global_reactive_power':'mean',\n",
    "                                                        'Sub_metering_1': sum, 'Sub_metering_2': sum, 'Sub_metering_3': sum,\n",
    "                                                        'Global_active_energy': sum, 'Global_reactive_energy': sum})\n",
    "\n",
    "## Filling it with -10 to have a clear distinction for missing values. "
   ]
  },
  {
   "cell_type": "code",
   "execution_count": 219,
   "id": "7c1e78aa",
   "metadata": {},
   "outputs": [
    {
     "data": {
      "text/html": [
       "<div>\n",
       "<style scoped>\n",
       "    .dataframe tbody tr th:only-of-type {\n",
       "        vertical-align: middle;\n",
       "    }\n",
       "\n",
       "    .dataframe tbody tr th {\n",
       "        vertical-align: top;\n",
       "    }\n",
       "\n",
       "    .dataframe thead th {\n",
       "        text-align: right;\n",
       "    }\n",
       "</style>\n",
       "<table border=\"1\" class=\"dataframe\">\n",
       "  <thead>\n",
       "    <tr style=\"text-align: right;\">\n",
       "      <th></th>\n",
       "      <th>Global_active_power</th>\n",
       "      <th>Global_reactive_power</th>\n",
       "      <th>Sub_metering_1</th>\n",
       "      <th>Sub_metering_2</th>\n",
       "      <th>Sub_metering_3</th>\n",
       "      <th>Global_active_energy</th>\n",
       "      <th>Global_reactive_energy</th>\n",
       "    </tr>\n",
       "    <tr>\n",
       "      <th>DateTime</th>\n",
       "      <th></th>\n",
       "      <th></th>\n",
       "      <th></th>\n",
       "      <th></th>\n",
       "      <th></th>\n",
       "      <th></th>\n",
       "      <th></th>\n",
       "    </tr>\n",
       "  </thead>\n",
       "  <tbody>\n",
       "    <tr>\n",
       "      <th>2006-12-17</th>\n",
       "      <td>2.353516</td>\n",
       "      <td>0.156982</td>\n",
       "      <td>2033</td>\n",
       "      <td>4187</td>\n",
       "      <td>13341</td>\n",
       "      <td>56507.589844</td>\n",
       "      <td>3766.787842</td>\n",
       "    </tr>\n",
       "    <tr>\n",
       "      <th>2006-12-18</th>\n",
       "      <td>1.530273</td>\n",
       "      <td>0.112366</td>\n",
       "      <td>1063</td>\n",
       "      <td>2621</td>\n",
       "      <td>14018</td>\n",
       "      <td>36730.460938</td>\n",
       "      <td>2696.489990</td>\n",
       "    </tr>\n",
       "  </tbody>\n",
       "</table>\n",
       "</div>"
      ],
      "text/plain": [
       "            Global_active_power  Global_reactive_power  Sub_metering_1  \\\n",
       "DateTime                                                                 \n",
       "2006-12-17             2.353516               0.156982            2033   \n",
       "2006-12-18             1.530273               0.112366            1063   \n",
       "\n",
       "            Sub_metering_2  Sub_metering_3  Global_active_energy  \\\n",
       "DateTime                                                           \n",
       "2006-12-17            4187           13341          56507.589844   \n",
       "2006-12-18            2621           14018          36730.460938   \n",
       "\n",
       "            Global_reactive_energy  \n",
       "DateTime                            \n",
       "2006-12-17             3766.787842  \n",
       "2006-12-18             2696.489990  "
      ]
     },
     "execution_count": 219,
     "metadata": {},
     "output_type": "execute_result"
    }
   ],
   "source": [
    "daily.head(2)"
   ]
  },
  {
   "cell_type": "code",
   "execution_count": 220,
   "id": "475ab0fd",
   "metadata": {},
   "outputs": [
    {
     "data": {
      "image/png": "[encoded data removed]",
      "text/plain": [
       "<Figure size 1200x300 with 1 Axes>"
      ]
     },
     "metadata": {},
     "output_type": "display_data"
    }
   ],
   "source": [
    "daily.Global_active_energy.plot(figsize=(12,3))\n",
    "plt.title('Daily Energy consumption')\n",
    "plt.show()"
   ]
  },
  {
   "cell_type": "markdown",
   "id": "ae762ddf",
   "metadata": {},
   "source": [
    "- We can see clear seasonality and maybe a slight downward trend. \n",
    "- The negative values of the days are where the missing values are. (We added a negative value)"
   ]
  },
  {
   "cell_type": "markdown",
   "id": "98308eda",
   "metadata": {},
   "source": [
    "### Hourly"
   ]
  },
  {
   "cell_type": "code",
   "execution_count": 221,
   "id": "a71297fb",
   "metadata": {},
   "outputs": [],
   "source": [
    "hourly = df.fillna(-1).groupby([df['Date'], df['DateTime'].dt.hour]).agg({'Global_active_power':'mean', 'Global_reactive_power':'mean',\n",
    "                                                    'Sub_metering_1': sum, 'Sub_metering_2': sum, 'Sub_metering_3': sum,\n",
    "                                                    'Global_active_energy':sum, 'Global_reactive_energy':sum})"
   ]
  },
  {
   "cell_type": "code",
   "execution_count": 222,
   "id": "4e501e39",
   "metadata": {},
   "outputs": [],
   "source": [
    "hourly.reset_index(inplace=True)"
   ]
  },
  {
   "cell_type": "code",
   "execution_count": 223,
   "id": "20ad262b",
   "metadata": {},
   "outputs": [
    {
     "data": {
      "text/html": [
       "<div>\n",
       "<style scoped>\n",
       "    .dataframe tbody tr th:only-of-type {\n",
       "        vertical-align: middle;\n",
       "    }\n",
       "\n",
       "    .dataframe tbody tr th {\n",
       "        vertical-align: top;\n",
       "    }\n",
       "\n",
       "    .dataframe thead th {\n",
       "        text-align: right;\n",
       "    }\n",
       "</style>\n",
       "<table border=\"1\" class=\"dataframe\">\n",
       "  <thead>\n",
       "    <tr style=\"text-align: right;\">\n",
       "      <th></th>\n",
       "      <th>Date</th>\n",
       "      <th>DateTime</th>\n",
       "      <th>Global_active_power</th>\n",
       "      <th>Global_reactive_power</th>\n",
       "      <th>Sub_metering_1</th>\n",
       "      <th>Sub_metering_2</th>\n",
       "      <th>Sub_metering_3</th>\n",
       "      <th>Global_active_energy</th>\n",
       "      <th>Global_reactive_energy</th>\n",
       "    </tr>\n",
       "  </thead>\n",
       "  <tbody>\n",
       "    <tr>\n",
       "      <th>0</th>\n",
       "      <td>2006-12-17</td>\n",
       "      <td>0</td>\n",
       "      <td>1.882812</td>\n",
       "      <td>0.102417</td>\n",
       "      <td>0</td>\n",
       "      <td>28</td>\n",
       "      <td>0</td>\n",
       "      <td>1882.336426</td>\n",
       "      <td>102.429199</td>\n",
       "    </tr>\n",
       "    <tr>\n",
       "      <th>1</th>\n",
       "      <td>2006-12-17</td>\n",
       "      <td>1</td>\n",
       "      <td>3.349609</td>\n",
       "      <td>0.136963</td>\n",
       "      <td>0</td>\n",
       "      <td>1514</td>\n",
       "      <td>0</td>\n",
       "      <td>3349.369385</td>\n",
       "      <td>136.934402</td>\n",
       "    </tr>\n",
       "    <tr>\n",
       "      <th>2</th>\n",
       "      <td>2006-12-17</td>\n",
       "      <td>2</td>\n",
       "      <td>1.586914</td>\n",
       "      <td>0.078247</td>\n",
       "      <td>0</td>\n",
       "      <td>34</td>\n",
       "      <td>0</td>\n",
       "      <td>1587.186646</td>\n",
       "      <td>78.229271</td>\n",
       "    </tr>\n",
       "  </tbody>\n",
       "</table>\n",
       "</div>"
      ],
      "text/plain": [
       "        Date  DateTime  Global_active_power  Global_reactive_power  \\\n",
       "0 2006-12-17         0             1.882812               0.102417   \n",
       "1 2006-12-17         1             3.349609               0.136963   \n",
       "2 2006-12-17         2             1.586914               0.078247   \n",
       "\n",
       "   Sub_metering_1  Sub_metering_2  Sub_metering_3  Global_active_energy  \\\n",
       "0               0              28               0           1882.336426   \n",
       "1               0            1514               0           3349.369385   \n",
       "2               0              34               0           1587.186646   \n",
       "\n",
       "   Global_reactive_energy  \n",
       "0              102.429199  \n",
       "1              136.934402  \n",
       "2               78.229271  "
      ]
     },
     "execution_count": 223,
     "metadata": {},
     "output_type": "execute_result"
    }
   ],
   "source": [
    "hourly.head(3)"
   ]
  },
  {
   "cell_type": "code",
   "execution_count": 224,
   "id": "0f2fc8b4",
   "metadata": {},
   "outputs": [
    {
     "data": {
      "image/png": "[encoded data removed]",
      "text/plain": [
       "<Figure size 1200x300 with 1 Axes>"
      ]
     },
     "metadata": {},
     "output_type": "display_data"
    }
   ],
   "source": [
    "fig, ax = plt.subplots(figsize=(12,3))\n",
    "\n",
    "hourly.loc[hourly['Date'] == '2008-4-3', ['DateTime','Global_active_energy']].plot(x='DateTime', y='Global_active_energy', ax=ax, color='b')\n",
    "hourly.loc[hourly['Date'] == '2008-4-10', ['DateTime','Global_active_energy']].plot(x='DateTime', y='Global_active_energy', ax=ax, color='r')\n",
    "hourly.loc[hourly['Date'] == '2008-4-17', ['DateTime','Global_active_energy']].plot(x='DateTime', y='Global_active_energy', ax=ax, color='g')\n",
    "\n",
    "ax.legend(['2008-4-3', '2008-4-10', '2008-4-17'])\n",
    "plt.title('Checking if the consumption has relevance to day of the week')\n",
    "plt.show()"
   ]
  },
  {
   "cell_type": "code",
   "execution_count": 225,
   "id": "3cc4e395",
   "metadata": {},
   "outputs": [
    {
     "data": {
      "image/png": "[encoded data removed]",
      "text/plain": [
       "<Figure size 1200x300 with 1 Axes>"
      ]
     },
     "metadata": {},
     "output_type": "display_data"
    }
   ],
   "source": [
    "fig, ax = plt.subplots(figsize=(12,3))\n",
    "\n",
    "hourly.loc[hourly['Date'] == '2008-4-3', ['DateTime','Global_active_energy']].plot(x='DateTime', y='Global_active_energy', ax=ax, color='b')\n",
    "hourly.loc[hourly['Date'] == '2008-4-4', ['DateTime','Global_active_energy']].plot(x='DateTime', y='Global_active_energy', ax=ax, color='r')\n",
    "hourly.loc[hourly['Date'] == '2008-4-5', ['DateTime','Global_active_energy']].plot(x='DateTime', y='Global_active_energy', ax=ax, color='g')\n",
    "\n",
    "ax.legend(['2008-4-3', '2008-4-4', '2008-4-5'])\n",
    "plt.title('Checking if the consumption has relevance to day of the week')\n",
    "plt.show()"
   ]
  },
  {
   "cell_type": "code",
   "execution_count": 226,
   "id": "fd3b2b8d",
   "metadata": {},
   "outputs": [
    {
     "data": {
      "image/png": "[encoded data removed]",
      "text/plain": [
       "<Figure size 1200x300 with 1 Axes>"
      ]
     },
     "metadata": {},
     "output_type": "display_data"
    }
   ],
   "source": [
    "fig, ax = plt.subplots(figsize=(12,3))\n",
    "\n",
    "hourly.loc[hourly['Date'] == '2009-11-11', ['DateTime','Global_active_energy']].plot(x='DateTime', y='Global_active_energy', ax=ax, color='b')\n",
    "hourly.loc[hourly['Date'] == '2009-11-18', ['DateTime','Global_active_energy']].plot(x='DateTime', y='Global_active_energy', ax=ax, color='r')\n",
    "hourly.loc[hourly['Date'] == '2009-11-4', ['DateTime','Global_active_energy']].plot(x='DateTime', y='Global_active_energy', ax=ax, color='g')\n",
    "\n",
    "ax.legend(['2009-11-11', '2009-11-18', '2009-11-4'])\n",
    "plt.title('Checking if the consumption day by day')\n",
    "plt.show()"
   ]
  },
  {
   "cell_type": "code",
   "execution_count": 227,
   "id": "b88cc7f3",
   "metadata": {},
   "outputs": [
    {
     "data": {
      "image/png": "[encoded data removed]",
      "text/plain": [
       "<Figure size 1200x300 with 1 Axes>"
      ]
     },
     "metadata": {},
     "output_type": "display_data"
    }
   ],
   "source": [
    "fig, ax = plt.subplots(figsize=(12,3))\n",
    "\n",
    "hourly.loc[hourly['Date'] == '2009-11-11', ['DateTime','Global_active_energy']].plot(x='DateTime', y='Global_active_energy', ax=ax, color='b')\n",
    "hourly.loc[hourly['Date'] == '2009-11-12', ['DateTime','Global_active_energy']].plot(x='DateTime', y='Global_active_energy', ax=ax, color='r')\n",
    "hourly.loc[hourly['Date'] == '2009-11-13', ['DateTime','Global_active_energy']].plot(x='DateTime', y='Global_active_energy', ax=ax, color='g')\n",
    "\n",
    "ax.legend(['2009-11-11', '2009-11-12', '2009-11-13'])\n",
    "plt.title('Checking if the consumption day by day')\n",
    "plt.show()"
   ]
  },
  {
   "cell_type": "markdown",
   "id": "95f12e7b",
   "metadata": {},
   "source": [
    "- From the hourly graphs, we can se that a days data has more relation to the next week's same day, rather than than the next day\n",
    "- We can also check the correlation values "
   ]
  },
  {
   "cell_type": "code",
   "execution_count": 228,
   "id": "6601272a",
   "metadata": {},
   "outputs": [],
   "source": [
    "def get_corr_value(date1, date2):\n",
    "    s1 = hourly.loc[hourly['Date'] == date1, 'Global_active_energy'].reset_index(drop=True)\n",
    "    s2 = hourly.loc[hourly['Date'] == date2, 'Global_active_energy'].reset_index(drop=True)\n",
    "    return s1.corr(s2)"
   ]
  },
  {
   "cell_type": "code",
   "execution_count": 229,
   "id": "8d3d93de",
   "metadata": {},
   "outputs": [
    {
     "name": "stdout",
     "output_type": "stream",
     "text": [
      "Checking Correlation values for 2009-11-11\n",
      "************************************************\n",
      "Corellation value for consecutive days. Between 2009-11-11 and 2009-11-12 is 0.2553871097888951\n",
      "-----------------------------------------------------------------\n",
      "Corellation value for consecutive days. Between 2009-11-11 and 2009-11-10 is 0.24737801096731077\n",
      "-----------------------------------------------------------------\n",
      "Corellation value for next weeks day. Between 2009-11-11 and 2009-11-18 is 0.7229183356973586\n",
      "-----------------------------------------------------------------\n",
      "Corellation value for next weeks day. Between 2009-11-11 and 2009-11-4 is 0.7799831211425511\n"
     ]
    }
   ],
   "source": [
    "print('Checking Correlation values for 2009-11-11')\n",
    "print('************************************************')\n",
    "print('Corellation value for consecutive days. Between 2009-11-11 and 2009-11-12 is', get_corr_value('2009-11-11','2009-11-12'))\n",
    "print('-----------------------------------------------------------------')\n",
    "print('Corellation value for consecutive days. Between 2009-11-11 and 2009-11-10 is', get_corr_value('2009-11-11','2009-11-10'))\n",
    "print('-----------------------------------------------------------------')\n",
    "print('Corellation value for next weeks day. Between 2009-11-11 and 2009-11-18 is', get_corr_value('2009-11-11','2009-11-18'))\n",
    "print('-----------------------------------------------------------------')\n",
    "print('Corellation value for next weeks day. Between 2009-11-11 and 2009-11-4 is', get_corr_value('2009-11-11','2009-11-4'))\n",
    "\n"
   ]
  },
  {
   "cell_type": "code",
   "execution_count": 230,
   "id": "e270cd95",
   "metadata": {},
   "outputs": [
    {
     "name": "stdout",
     "output_type": "stream",
     "text": [
      "Checking Correlation values for 2008-4-4\n",
      "************************************************\n",
      "Corellation value for consecutive days. Between 2008-4-3 and 2008-4-4 is 0.5819218649337707\n",
      "-----------------------------------------------------------------\n",
      "Corellation value for consecutive days. Between 2008-4-4 and 2008-4-5 is 0.3339422602551628\n",
      "-----------------------------------------------------------------\n",
      "Corellation value for next weeks day. Between 2008-4-3 and 2008-4-10 is 0.6470606983673737\n",
      "-----------------------------------------------------------------\n",
      "Corellation value for next weeks day. Between 2008-4-4 and 2008-3-27 is 0.6833517611170529\n"
     ]
    }
   ],
   "source": [
    "print('Checking Correlation values for 2008-4-4')\n",
    "print('************************************************')\n",
    "print('Corellation value for consecutive days. Between 2008-4-3 and 2008-4-4 is', get_corr_value('2008-4-3','2008-4-4'))\n",
    "print('-----------------------------------------------------------------')\n",
    "print('Corellation value for consecutive days. Between 2008-4-4 and 2008-4-5 is', get_corr_value('2008-4-4','2008-4-5'))\n",
    "print('-----------------------------------------------------------------')\n",
    "print('Corellation value for next weeks day. Between 2008-4-3 and 2008-4-10 is', get_corr_value('2008-4-3','2008-4-10'))\n",
    "print('-----------------------------------------------------------------')\n",
    "print('Corellation value for next weeks day. Between 2008-4-4 and 2008-3-27 is', get_corr_value('2008-4-3','2008-3-27'))"
   ]
  },
  {
   "cell_type": "markdown",
   "id": "f5bb044e",
   "metadata": {},
   "source": [
    "#### How can we use the above information?\n",
    "- Can utilize this information to fill the missing values.\n",
    "- Some of the dates have total missing data and they are consecutive. In that case, we can just you the previous weeks data to fill the current data. \n",
    "- When there are only 1 or 2 rows missing in a day, we will just perform forward or backward fill."
   ]
  },
  {
   "cell_type": "code",
   "execution_count": 233,
   "id": "d2a5152b",
   "metadata": {},
   "outputs": [
    {
     "data": {
      "text/html": [
       "<div>\n",
       "<style scoped>\n",
       "    .dataframe tbody tr th:only-of-type {\n",
       "        vertical-align: middle;\n",
       "    }\n",
       "\n",
       "    .dataframe tbody tr th {\n",
       "        vertical-align: top;\n",
       "    }\n",
       "\n",
       "    .dataframe thead th {\n",
       "        text-align: right;\n",
       "    }\n",
       "</style>\n",
       "<table border=\"1\" class=\"dataframe\">\n",
       "  <thead>\n",
       "    <tr style=\"text-align: right;\">\n",
       "      <th></th>\n",
       "      <th>0</th>\n",
       "      <th>1</th>\n",
       "      <th>2</th>\n",
       "      <th>3</th>\n",
       "      <th>4</th>\n",
       "      <th>5</th>\n",
       "      <th>6</th>\n",
       "      <th>7</th>\n",
       "      <th>8</th>\n",
       "      <th>9</th>\n",
       "      <th>10</th>\n",
       "      <th>11</th>\n",
       "      <th>12</th>\n",
       "      <th>13</th>\n",
       "      <th>14</th>\n",
       "      <th>15</th>\n",
       "      <th>16</th>\n",
       "      <th>17</th>\n",
       "      <th>18</th>\n",
       "      <th>19</th>\n",
       "      <th>20</th>\n",
       "      <th>21</th>\n",
       "      <th>22</th>\n",
       "      <th>23</th>\n",
       "      <th>24</th>\n",
       "      <th>25</th>\n",
       "      <th>26</th>\n",
       "      <th>27</th>\n",
       "      <th>28</th>\n",
       "      <th>29</th>\n",
       "      <th>30</th>\n",
       "      <th>31</th>\n",
       "      <th>32</th>\n",
       "      <th>33</th>\n",
       "      <th>34</th>\n",
       "      <th>35</th>\n",
       "      <th>36</th>\n",
       "      <th>37</th>\n",
       "      <th>38</th>\n",
       "      <th>39</th>\n",
       "      <th>40</th>\n",
       "      <th>41</th>\n",
       "      <th>42</th>\n",
       "      <th>43</th>\n",
       "      <th>44</th>\n",
       "      <th>45</th>\n",
       "      <th>46</th>\n",
       "      <th>47</th>\n",
       "      <th>48</th>\n",
       "      <th>49</th>\n",
       "      <th>50</th>\n",
       "      <th>51</th>\n",
       "      <th>52</th>\n",
       "      <th>53</th>\n",
       "      <th>54</th>\n",
       "      <th>55</th>\n",
       "      <th>56</th>\n",
       "      <th>57</th>\n",
       "      <th>58</th>\n",
       "      <th>59</th>\n",
       "      <th>60</th>\n",
       "      <th>61</th>\n",
       "      <th>62</th>\n",
       "      <th>63</th>\n",
       "      <th>64</th>\n",
       "      <th>65</th>\n",
       "      <th>66</th>\n",
       "      <th>67</th>\n",
       "      <th>68</th>\n",
       "      <th>69</th>\n",
       "      <th>70</th>\n",
       "      <th>71</th>\n",
       "      <th>72</th>\n",
       "      <th>73</th>\n",
       "      <th>74</th>\n",
       "      <th>75</th>\n",
       "      <th>76</th>\n",
       "      <th>77</th>\n",
       "      <th>78</th>\n",
       "      <th>79</th>\n",
       "      <th>80</th>\n",
       "      <th>81</th>\n",
       "    </tr>\n",
       "  </thead>\n",
       "  <tbody>\n",
       "    <tr>\n",
       "      <th>DateTime</th>\n",
       "      <td>2006-12-21</td>\n",
       "      <td>2006-12-30</td>\n",
       "      <td>2007-01-14</td>\n",
       "      <td>2007-01-28</td>\n",
       "      <td>2007-02-22</td>\n",
       "      <td>2007-03-25</td>\n",
       "      <td>2007-04-28</td>\n",
       "      <td>2007-04-29</td>\n",
       "      <td>2007-04-30</td>\n",
       "      <td>2007-06-01</td>\n",
       "      <td>2007-06-06</td>\n",
       "      <td>2007-06-09</td>\n",
       "      <td>2007-06-19</td>\n",
       "      <td>2007-06-29</td>\n",
       "      <td>2007-07-15</td>\n",
       "      <td>2007-07-22</td>\n",
       "      <td>2007-08-01</td>\n",
       "      <td>2007-08-24</td>\n",
       "      <td>2007-09-26</td>\n",
       "      <td>2007-10-23</td>\n",
       "      <td>2007-11-21</td>\n",
       "      <td>2007-11-29</td>\n",
       "      <td>2007-12-17</td>\n",
       "      <td>2008-01-13</td>\n",
       "      <td>2008-02-02</td>\n",
       "      <td>2008-02-23</td>\n",
       "      <td>2008-03-24</td>\n",
       "      <td>2008-05-16</td>\n",
       "      <td>2008-06-13</td>\n",
       "      <td>2008-07-13</td>\n",
       "      <td>2008-08-04</td>\n",
       "      <td>2008-08-31</td>\n",
       "      <td>2008-10-25</td>\n",
       "      <td>2008-11-10</td>\n",
       "      <td>2008-11-12</td>\n",
       "      <td>2008-11-23</td>\n",
       "      <td>2008-12-10</td>\n",
       "      <td>2008-12-20</td>\n",
       "      <td>2009-01-14</td>\n",
       "      <td>2009-02-01</td>\n",
       "      <td>2009-02-14</td>\n",
       "      <td>2009-02-17</td>\n",
       "      <td>2009-03-01</td>\n",
       "      <td>2009-03-16</td>\n",
       "      <td>2009-04-13</td>\n",
       "      <td>2009-05-10</td>\n",
       "      <td>2009-05-26</td>\n",
       "      <td>2009-06-13</td>\n",
       "      <td>2009-06-14</td>\n",
       "      <td>2009-06-15</td>\n",
       "      <td>2009-07-10</td>\n",
       "      <td>2009-08-13</td>\n",
       "      <td>2009-09-13</td>\n",
       "      <td>2009-09-30</td>\n",
       "      <td>2009-10-11</td>\n",
       "      <td>2009-11-09</td>\n",
       "      <td>2009-12-10</td>\n",
       "      <td>2010-01-02</td>\n",
       "      <td>2010-01-12</td>\n",
       "      <td>2010-01-13</td>\n",
       "      <td>2010-01-14</td>\n",
       "      <td>2010-01-23</td>\n",
       "      <td>2010-02-10</td>\n",
       "      <td>2010-02-14</td>\n",
       "      <td>2010-03-20</td>\n",
       "      <td>2010-03-21</td>\n",
       "      <td>2010-04-11</td>\n",
       "      <td>2010-05-13</td>\n",
       "      <td>2010-06-12</td>\n",
       "      <td>2010-06-29</td>\n",
       "      <td>2010-07-15</td>\n",
       "      <td>2010-08-17</td>\n",
       "      <td>2010-08-18</td>\n",
       "      <td>2010-08-19</td>\n",
       "      <td>2010-08-20</td>\n",
       "      <td>2010-08-21</td>\n",
       "      <td>2010-08-22</td>\n",
       "      <td>2010-09-25</td>\n",
       "      <td>2010-09-26</td>\n",
       "      <td>2010-09-27</td>\n",
       "      <td>2010-09-28</td>\n",
       "      <td>2010-10-24</td>\n",
       "    </tr>\n",
       "    <tr>\n",
       "      <th>size</th>\n",
       "      <td>2</td>\n",
       "      <td>2</td>\n",
       "      <td>1</td>\n",
       "      <td>1</td>\n",
       "      <td>2</td>\n",
       "      <td>1</td>\n",
       "      <td>1419</td>\n",
       "      <td>1440</td>\n",
       "      <td>864</td>\n",
       "      <td>1</td>\n",
       "      <td>1</td>\n",
       "      <td>38</td>\n",
       "      <td>2</td>\n",
       "      <td>1</td>\n",
       "      <td>130</td>\n",
       "      <td>1</td>\n",
       "      <td>21</td>\n",
       "      <td>1</td>\n",
       "      <td>2</td>\n",
       "      <td>2</td>\n",
       "      <td>1</td>\n",
       "      <td>1</td>\n",
       "      <td>1</td>\n",
       "      <td>1</td>\n",
       "      <td>1</td>\n",
       "      <td>2</td>\n",
       "      <td>1</td>\n",
       "      <td>2</td>\n",
       "      <td>1</td>\n",
       "      <td>2</td>\n",
       "      <td>1</td>\n",
       "      <td>1</td>\n",
       "      <td>43</td>\n",
       "      <td>6</td>\n",
       "      <td>2</td>\n",
       "      <td>1</td>\n",
       "      <td>70</td>\n",
       "      <td>1</td>\n",
       "      <td>1</td>\n",
       "      <td>38</td>\n",
       "      <td>2</td>\n",
       "      <td>24</td>\n",
       "      <td>1</td>\n",
       "      <td>1</td>\n",
       "      <td>2</td>\n",
       "      <td>1</td>\n",
       "      <td>3</td>\n",
       "      <td>1410</td>\n",
       "      <td>1440</td>\n",
       "      <td>455</td>\n",
       "      <td>4</td>\n",
       "      <td>891</td>\n",
       "      <td>1</td>\n",
       "      <td>2</td>\n",
       "      <td>1</td>\n",
       "      <td>1</td>\n",
       "      <td>2</td>\n",
       "      <td>1</td>\n",
       "      <td>547</td>\n",
       "      <td>1440</td>\n",
       "      <td>1142</td>\n",
       "      <td>1</td>\n",
       "      <td>1</td>\n",
       "      <td>1</td>\n",
       "      <td>1208</td>\n",
       "      <td>819</td>\n",
       "      <td>1</td>\n",
       "      <td>1</td>\n",
       "      <td>1</td>\n",
       "      <td>1</td>\n",
       "      <td>1</td>\n",
       "      <td>178</td>\n",
       "      <td>1440</td>\n",
       "      <td>1440</td>\n",
       "      <td>1440</td>\n",
       "      <td>1440</td>\n",
       "      <td>1288</td>\n",
       "      <td>1204</td>\n",
       "      <td>1440</td>\n",
       "      <td>1440</td>\n",
       "      <td>1153</td>\n",
       "      <td>1</td>\n",
       "    </tr>\n",
       "  </tbody>\n",
       "</table>\n",
       "</div>"
      ],
      "text/plain": [
       "                  0           1           2           3           4   \\\n",
       "DateTime  2006-12-21  2006-12-30  2007-01-14  2007-01-28  2007-02-22   \n",
       "size               2           2           1           1           2   \n",
       "\n",
       "                  5           6           7           8           9   \\\n",
       "DateTime  2007-03-25  2007-04-28  2007-04-29  2007-04-30  2007-06-01   \n",
       "size               1        1419        1440         864           1   \n",
       "\n",
       "                  10          11          12          13          14  \\\n",
       "DateTime  2007-06-06  2007-06-09  2007-06-19  2007-06-29  2007-07-15   \n",
       "size               1          38           2           1         130   \n",
       "\n",
       "                  15          16          17          18          19  \\\n",
       "DateTime  2007-07-22  2007-08-01  2007-08-24  2007-09-26  2007-10-23   \n",
       "size               1          21           1           2           2   \n",
       "\n",
       "                  20          21          22          23          24  \\\n",
       "DateTime  2007-11-21  2007-11-29  2007-12-17  2008-01-13  2008-02-02   \n",
       "size               1           1           1           1           1   \n",
       "\n",
       "                  25          26          27          28          29  \\\n",
       "DateTime  2008-02-23  2008-03-24  2008-05-16  2008-06-13  2008-07-13   \n",
       "size               2           1           2           1           2   \n",
       "\n",
       "                  30          31          32          33          34  \\\n",
       "DateTime  2008-08-04  2008-08-31  2008-10-25  2008-11-10  2008-11-12   \n",
       "size               1           1          43           6           2   \n",
       "\n",
       "                  35          36          37          38          39  \\\n",
       "DateTime  2008-11-23  2008-12-10  2008-12-20  2009-01-14  2009-02-01   \n",
       "size               1          70           1           1          38   \n",
       "\n",
       "                  40          41          42          43          44  \\\n",
       "DateTime  2009-02-14  2009-02-17  2009-03-01  2009-03-16  2009-04-13   \n",
       "size               2          24           1           1           2   \n",
       "\n",
       "                  45          46          47          48          49  \\\n",
       "DateTime  2009-05-10  2009-05-26  2009-06-13  2009-06-14  2009-06-15   \n",
       "size               1           3        1410        1440         455   \n",
       "\n",
       "                  50          51          52          53          54  \\\n",
       "DateTime  2009-07-10  2009-08-13  2009-09-13  2009-09-30  2009-10-11   \n",
       "size               4         891           1           2           1   \n",
       "\n",
       "                  55          56          57          58          59  \\\n",
       "DateTime  2009-11-09  2009-12-10  2010-01-02  2010-01-12  2010-01-13   \n",
       "size               1           2           1         547        1440   \n",
       "\n",
       "                  60          61          62          63          64  \\\n",
       "DateTime  2010-01-14  2010-01-23  2010-02-10  2010-02-14  2010-03-20   \n",
       "size            1142           1           1           1        1208   \n",
       "\n",
       "                  65          66          67          68          69  \\\n",
       "DateTime  2010-03-21  2010-04-11  2010-05-13  2010-06-12  2010-06-29   \n",
       "size             819           1           1           1           1   \n",
       "\n",
       "                  70          71          72          73          74  \\\n",
       "DateTime  2010-07-15  2010-08-17  2010-08-18  2010-08-19  2010-08-20   \n",
       "size               1         178        1440        1440        1440   \n",
       "\n",
       "                  75          76          77          78          79  \\\n",
       "DateTime  2010-08-21  2010-08-22  2010-09-25  2010-09-26  2010-09-27   \n",
       "size            1440        1288        1204        1440        1440   \n",
       "\n",
       "                  80          81  \n",
       "DateTime  2010-09-28  2010-10-24  \n",
       "size            1153           1  "
      ]
     },
     "execution_count": 233,
     "metadata": {},
     "output_type": "execute_result"
    }
   ],
   "source": [
    "missing_dates = df[df.Global_active_power.isna()].groupby([df['DateTime'].dt.date], as_index=False).size()\n",
    "missing_dates.T"
   ]
  },
  {
   "cell_type": "code",
   "execution_count": 293,
   "id": "0ca21ffd",
   "metadata": {
    "scrolled": true
   },
   "outputs": [
    {
     "name": "stdout",
     "output_type": "stream",
     "text": [
      "Total number of days with missing values:  82\n",
      "Number of days with less than 10 missing values:  53\n",
      "Number of days with greater than 1000 missing values:  16\n"
     ]
    }
   ],
   "source": [
    "x, y, z = missing_dates.shape[0], (missing_dates['size'] <= 10).sum(), (missing_dates['size'] >= 1000).sum()\n",
    "\n",
    "print(\"Total number of days with missing values: \" , x)\n",
    "print(\"Number of days with less than 10 missing values: \" , y)\n",
    "print(\"Number of days with greater than 1000 missing values: \" , z)"
   ]
  },
  {
   "cell_type": "code",
   "execution_count": 333,
   "id": "b2756e1f",
   "metadata": {},
   "outputs": [
    {
     "data": {
      "text/plain": [
       "7226"
      ]
     },
     "execution_count": 333,
     "metadata": {},
     "output_type": "execute_result"
    }
   ],
   "source": [
    "na_groups = df['Global_active_power'].notna().cumsum()[df['Global_active_power'].isna()]\n",
    "len_consecutive_na = na_groups.groupby(na_groups).agg(len)\n",
    "\n",
    "longest_na_gap = len_consecutive_na.max()\n",
    "longest_na_gap"
   ]
  },
  {
   "cell_type": "code",
   "execution_count": 334,
   "id": "3e951497",
   "metadata": {},
   "outputs": [
    {
     "data": {
      "text/plain": [
       "5.018055555555556"
      ]
     },
     "execution_count": 334,
     "metadata": {},
     "output_type": "execute_result"
    }
   ],
   "source": [
    "7226/1440"
   ]
  },
  {
   "cell_type": "markdown",
   "id": "4ae9d7a9",
   "metadata": {},
   "source": [
    "#### Filling missing values for dates which have less than 500 missing values \n",
    "\n",
    "- Luckily all the mising values are consecutive. So we simply fill the missing values using shift."
   ]
  },
  {
   "cell_type": "code",
   "execution_count": 345,
   "id": "48171cfd",
   "metadata": {},
   "outputs": [],
   "source": [
    "df1 = df.copy()"
   ]
  },
  {
   "cell_type": "code",
   "execution_count": 384,
   "id": "e9d52deb",
   "metadata": {},
   "outputs": [],
   "source": [
    "df=df1.copy()"
   ]
  },
  {
   "cell_type": "code",
   "execution_count": 387,
   "id": "cdaf4fca",
   "metadata": {},
   "outputs": [],
   "source": [
    "cols = ['Global_active_power', 'Global_reactive_power',\n",
    "       'Voltage', 'Global_intensity', 'Sub_metering_1', 'Sub_metering_2',\n",
    "       'Sub_metering_3', 'Global_active_energy', 'Global_reactive_energy']\n",
    "\n",
    "def fill_missing(date, n):\n",
    "    print(date)\n",
    "    print(n)\n",
    "    temp = df[df.Date == str(date)]\n",
    "    ind = temp[temp.Global_active_power.isnull()].index\n",
    "    df.loc[ind, cols] = df.loc[ind-n, cols].values \n",
    "    print(f'Filled {n} missing values for {date}')\n",
    "\n",
    "def fill_lastweek(date, n):\n",
    "    print(date)\n",
    "    print(n)\n",
    "    lastweek = datetime.strptime(str(date), '%Y-%m-%d') - timedelta(days=7)\n",
    "    df.loc[df.Date == str(date), cols] = df.loc[df.Date == lastweek, cols].values\n",
    "    print(f'Filled {n} missing values for {date}')"
   ]
  },
  {
   "cell_type": "raw",
   "id": "9e594549",
   "metadata": {},
   "source": [
    "i=0\n",
    "for index, row in missing_dates.iterrows():\n",
    "    if i > 0:\n",
    "        break\n",
    "    else:\n",
    "        print(date)\n",
    "        lastweek = datetime.strptime(str(date), '%Y-%m-%d') - timedelta(days=7)\n",
    "        print(lastweek)\n",
    "        print(df.loc[df.Date == lastweek, cols].values)\n",
    "        i+=1"
   ]
  },
  {
   "cell_type": "code",
   "execution_count": 388,
   "id": "fb058bac",
   "metadata": {},
   "outputs": [
    {
     "name": "stdout",
     "output_type": "stream",
     "text": [
      "2006-12-21\n",
      "2\n",
      "Filled 2 missing values for 2006-12-21\n",
      "2006-12-30\n",
      "2\n",
      "Filled 2 missing values for 2006-12-30\n",
      "2007-01-14\n",
      "1\n",
      "Filled 1 missing values for 2007-01-14\n",
      "2007-01-28\n",
      "1\n",
      "Filled 1 missing values for 2007-01-28\n",
      "2007-02-22\n",
      "2\n",
      "Filled 2 missing values for 2007-02-22\n",
      "2007-03-25\n",
      "1\n",
      "Filled 1 missing values for 2007-03-25\n",
      "2007-04-28\n",
      "1419\n",
      "Filled 1419 missing values for 2007-04-28\n",
      "2007-04-29\n",
      "1440\n",
      "Filled 1440 missing values for 2007-04-29\n",
      "2007-04-30\n",
      "864\n",
      "Filled 864 missing values for 2007-04-30\n",
      "2007-06-01\n",
      "1\n",
      "Filled 1 missing values for 2007-06-01\n",
      "2007-06-06\n",
      "1\n",
      "Filled 1 missing values for 2007-06-06\n",
      "2007-06-09\n",
      "38\n",
      "Filled 38 missing values for 2007-06-09\n",
      "2007-06-19\n",
      "2\n",
      "Filled 2 missing values for 2007-06-19\n",
      "2007-06-29\n",
      "1\n",
      "Filled 1 missing values for 2007-06-29\n",
      "2007-07-15\n",
      "130\n",
      "Filled 130 missing values for 2007-07-15\n",
      "2007-07-22\n",
      "1\n",
      "Filled 1 missing values for 2007-07-22\n",
      "2007-08-01\n",
      "21\n",
      "Filled 21 missing values for 2007-08-01\n",
      "2007-08-24\n",
      "1\n",
      "Filled 1 missing values for 2007-08-24\n",
      "2007-09-26\n",
      "2\n",
      "Filled 2 missing values for 2007-09-26\n",
      "2007-10-23\n",
      "2\n",
      "Filled 2 missing values for 2007-10-23\n",
      "2007-11-21\n",
      "1\n",
      "Filled 1 missing values for 2007-11-21\n",
      "2007-11-29\n",
      "1\n",
      "Filled 1 missing values for 2007-11-29\n",
      "2007-12-17\n",
      "1\n",
      "Filled 1 missing values for 2007-12-17\n",
      "2008-01-13\n",
      "1\n",
      "Filled 1 missing values for 2008-01-13\n",
      "2008-02-02\n",
      "1\n",
      "Filled 1 missing values for 2008-02-02\n",
      "2008-02-23\n",
      "2\n",
      "Filled 2 missing values for 2008-02-23\n",
      "2008-03-24\n",
      "1\n",
      "Filled 1 missing values for 2008-03-24\n",
      "2008-05-16\n",
      "2\n",
      "Filled 2 missing values for 2008-05-16\n",
      "2008-06-13\n",
      "1\n",
      "Filled 1 missing values for 2008-06-13\n",
      "2008-07-13\n",
      "2\n",
      "Filled 2 missing values for 2008-07-13\n",
      "2008-08-04\n",
      "1\n",
      "Filled 1 missing values for 2008-08-04\n",
      "2008-08-31\n",
      "1\n",
      "Filled 1 missing values for 2008-08-31\n",
      "2008-10-25\n",
      "43\n",
      "Filled 43 missing values for 2008-10-25\n",
      "2008-11-10\n",
      "6\n",
      "Filled 6 missing values for 2008-11-10\n",
      "2008-11-12\n",
      "2\n",
      "Filled 2 missing values for 2008-11-12\n",
      "2008-11-23\n",
      "1\n",
      "Filled 1 missing values for 2008-11-23\n",
      "2008-12-10\n",
      "70\n",
      "Filled 70 missing values for 2008-12-10\n",
      "2008-12-20\n",
      "1\n",
      "Filled 1 missing values for 2008-12-20\n",
      "2009-01-14\n",
      "1\n",
      "Filled 1 missing values for 2009-01-14\n",
      "2009-02-01\n",
      "38\n",
      "Filled 38 missing values for 2009-02-01\n",
      "2009-02-14\n",
      "2\n",
      "Filled 2 missing values for 2009-02-14\n",
      "2009-02-17\n",
      "24\n",
      "Filled 24 missing values for 2009-02-17\n",
      "2009-03-01\n",
      "1\n",
      "Filled 1 missing values for 2009-03-01\n",
      "2009-03-16\n",
      "1\n",
      "Filled 1 missing values for 2009-03-16\n",
      "2009-04-13\n",
      "2\n",
      "Filled 2 missing values for 2009-04-13\n",
      "2009-05-10\n",
      "1\n",
      "Filled 1 missing values for 2009-05-10\n",
      "2009-05-26\n",
      "3\n",
      "Filled 3 missing values for 2009-05-26\n",
      "2009-06-13\n",
      "1410\n",
      "Filled 1410 missing values for 2009-06-13\n",
      "2009-06-14\n",
      "1440\n",
      "Filled 1440 missing values for 2009-06-14\n",
      "2009-06-15\n",
      "455\n",
      "Filled 455 missing values for 2009-06-15\n",
      "2009-07-10\n",
      "4\n",
      "Filled 4 missing values for 2009-07-10\n",
      "2009-08-13\n",
      "891\n",
      "Filled 891 missing values for 2009-08-13\n",
      "2009-09-13\n",
      "1\n",
      "Filled 1 missing values for 2009-09-13\n",
      "2009-09-30\n",
      "2\n",
      "Filled 2 missing values for 2009-09-30\n",
      "2009-10-11\n",
      "1\n",
      "Filled 1 missing values for 2009-10-11\n",
      "2009-11-09\n",
      "1\n",
      "Filled 1 missing values for 2009-11-09\n",
      "2009-12-10\n",
      "2\n",
      "Filled 2 missing values for 2009-12-10\n",
      "2010-01-02\n",
      "1\n",
      "Filled 1 missing values for 2010-01-02\n",
      "2010-01-12\n",
      "547\n",
      "Filled 547 missing values for 2010-01-12\n",
      "2010-01-13\n",
      "1440\n",
      "Filled 1440 missing values for 2010-01-13\n",
      "2010-01-14\n",
      "1142\n",
      "Filled 1142 missing values for 2010-01-14\n",
      "2010-01-23\n",
      "1\n",
      "Filled 1 missing values for 2010-01-23\n",
      "2010-02-10\n",
      "1\n",
      "Filled 1 missing values for 2010-02-10\n",
      "2010-02-14\n",
      "1\n",
      "Filled 1 missing values for 2010-02-14\n",
      "2010-03-20\n",
      "1208\n",
      "Filled 1208 missing values for 2010-03-20\n",
      "2010-03-21\n",
      "819\n",
      "Filled 819 missing values for 2010-03-21\n",
      "2010-04-11\n",
      "1\n",
      "Filled 1 missing values for 2010-04-11\n",
      "2010-05-13\n",
      "1\n",
      "Filled 1 missing values for 2010-05-13\n",
      "2010-06-12\n",
      "1\n",
      "Filled 1 missing values for 2010-06-12\n",
      "2010-06-29\n",
      "1\n",
      "Filled 1 missing values for 2010-06-29\n",
      "2010-07-15\n",
      "1\n",
      "Filled 1 missing values for 2010-07-15\n",
      "2010-08-17\n",
      "178\n",
      "Filled 178 missing values for 2010-08-17\n",
      "2010-08-18\n",
      "1440\n",
      "Filled 1440 missing values for 2010-08-18\n",
      "2010-08-19\n",
      "1440\n",
      "Filled 1440 missing values for 2010-08-19\n",
      "2010-08-20\n",
      "1440\n",
      "Filled 1440 missing values for 2010-08-20\n",
      "2010-08-21\n",
      "1440\n",
      "Filled 1440 missing values for 2010-08-21\n",
      "2010-08-22\n",
      "1288\n",
      "Filled 1288 missing values for 2010-08-22\n",
      "2010-09-25\n",
      "1204\n",
      "Filled 1204 missing values for 2010-09-25\n",
      "2010-09-26\n",
      "1440\n",
      "Filled 1440 missing values for 2010-09-26\n",
      "2010-09-27\n",
      "1440\n",
      "Filled 1440 missing values for 2010-09-27\n",
      "2010-09-28\n",
      "1153\n",
      "Filled 1153 missing values for 2010-09-28\n",
      "2010-10-24\n",
      "1\n",
      "Filled 1 missing values for 2010-10-24\n"
     ]
    }
   ],
   "source": [
    "for index, row in missing_dates.iterrows():\n",
    "    if row[1] < 800:\n",
    "        fill_missing(row[0], row[1])\n",
    "    elif row[1] >= 800:\n",
    "        fill_lastweek(row[0], row[1])"
   ]
  },
  {
   "cell_type": "code",
   "execution_count": 389,
   "id": "63974988",
   "metadata": {},
   "outputs": [
    {
     "data": {
      "text/plain": [
       "Date                      0\n",
       "Time                      0\n",
       "Global_active_power       9\n",
       "Global_reactive_power     9\n",
       "Voltage                   9\n",
       "Global_intensity          9\n",
       "Sub_metering_1            9\n",
       "Sub_metering_2            9\n",
       "Sub_metering_3            9\n",
       "DateTime                  0\n",
       "Global_active_energy      9\n",
       "Global_reactive_energy    9\n",
       "dtype: int64"
      ]
     },
     "execution_count": 389,
     "metadata": {},
     "output_type": "execute_result"
    }
   ],
   "source": [
    "df.isnull().sum()"
   ]
  },
  {
   "cell_type": "code",
   "execution_count": 395,
   "id": "087f442e",
   "metadata": {},
   "outputs": [],
   "source": [
    "miss = df.loc[df.Global_active_energy.isnull(), 'Date'].unique()[0]"
   ]
  },
  {
   "cell_type": "code",
   "execution_count": 394,
   "id": "d02abf99",
   "metadata": {},
   "outputs": [
    {
     "data": {
      "text/html": [
       "<div>\n",
       "<style scoped>\n",
       "    .dataframe tbody tr th:only-of-type {\n",
       "        vertical-align: middle;\n",
       "    }\n",
       "\n",
       "    .dataframe tbody tr th {\n",
       "        vertical-align: top;\n",
       "    }\n",
       "\n",
       "    .dataframe thead th {\n",
       "        text-align: right;\n",
       "    }\n",
       "</style>\n",
       "<table border=\"1\" class=\"dataframe\">\n",
       "  <thead>\n",
       "    <tr style=\"text-align: right;\">\n",
       "      <th></th>\n",
       "      <th>DateTime</th>\n",
       "      <th>size</th>\n",
       "    </tr>\n",
       "  </thead>\n",
       "  <tbody>\n",
       "    <tr>\n",
       "      <th>0</th>\n",
       "      <td>2007-07-15</td>\n",
       "      <td>9</td>\n",
       "    </tr>\n",
       "  </tbody>\n",
       "</table>\n",
       "</div>"
      ],
      "text/plain": [
       "     DateTime  size\n",
       "0  2007-07-15     9"
      ]
     },
     "execution_count": 394,
     "metadata": {},
     "output_type": "execute_result"
    }
   ],
   "source": [
    "df[df.Global_active_power.isna()].groupby([df['DateTime'].dt.date], as_index=False).size()"
   ]
  },
  {
   "cell_type": "code",
   "execution_count": 396,
   "id": "3584265f",
   "metadata": {},
   "outputs": [
    {
     "name": "stdout",
     "output_type": "stream",
     "text": [
      "2007-07-15T00:00:00.000000000\n",
      "9\n",
      "Filled 9 missing values for 2007-07-15T00:00:00.000000000\n"
     ]
    }
   ],
   "source": [
    "fill_missing(miss, 9)"
   ]
  },
  {
   "cell_type": "code",
   "execution_count": 397,
   "id": "e45752e8",
   "metadata": {},
   "outputs": [
    {
     "data": {
      "text/plain": [
       "Date                      0\n",
       "Time                      0\n",
       "Global_active_power       0\n",
       "Global_reactive_power     0\n",
       "Voltage                   0\n",
       "Global_intensity          0\n",
       "Sub_metering_1            0\n",
       "Sub_metering_2            0\n",
       "Sub_metering_3            0\n",
       "DateTime                  0\n",
       "Global_active_energy      0\n",
       "Global_reactive_energy    0\n",
       "dtype: int64"
      ]
     },
     "execution_count": 397,
     "metadata": {},
     "output_type": "execute_result"
    }
   ],
   "source": [
    "df.isnull().sum()"
   ]
  },
  {
   "cell_type": "markdown",
   "id": "9a9d175a",
   "metadata": {},
   "source": [
    "### Filled all the missing values"
   ]
  },
  {
   "cell_type": "code",
   "execution_count": 403,
   "id": "57e8cac6",
   "metadata": {},
   "outputs": [],
   "source": [
    "df.reset_index(drop=True, inplace=True)"
   ]
  },
  {
   "cell_type": "code",
   "execution_count": 404,
   "id": "e73c0644",
   "metadata": {},
   "outputs": [
    {
     "data": {
      "text/html": [
       "<div>\n",
       "<style scoped>\n",
       "    .dataframe tbody tr th:only-of-type {\n",
       "        vertical-align: middle;\n",
       "    }\n",
       "\n",
       "    .dataframe tbody tr th {\n",
       "        vertical-align: top;\n",
       "    }\n",
       "\n",
       "    .dataframe thead th {\n",
       "        text-align: right;\n",
       "    }\n",
       "</style>\n",
       "<table border=\"1\" class=\"dataframe\">\n",
       "  <thead>\n",
       "    <tr style=\"text-align: right;\">\n",
       "      <th></th>\n",
       "      <th>Date</th>\n",
       "      <th>Time</th>\n",
       "      <th>Global_active_power</th>\n",
       "      <th>Global_reactive_power</th>\n",
       "      <th>Voltage</th>\n",
       "      <th>Global_intensity</th>\n",
       "      <th>Sub_metering_1</th>\n",
       "      <th>Sub_metering_2</th>\n",
       "      <th>Sub_metering_3</th>\n",
       "      <th>DateTime</th>\n",
       "      <th>Global_active_energy</th>\n",
       "      <th>Global_reactive_energy</th>\n",
       "    </tr>\n",
       "  </thead>\n",
       "  <tbody>\n",
       "    <tr>\n",
       "      <th>0</th>\n",
       "      <td>2006-12-17</td>\n",
       "      <td>00:00:00</td>\n",
       "      <td>1.043945</td>\n",
       "      <td>0.151978</td>\n",
       "      <td>242.750</td>\n",
       "      <td>4.398438</td>\n",
       "      <td>0</td>\n",
       "      <td>2</td>\n",
       "      <td>0</td>\n",
       "      <td>2006-12-17 00:00:00</td>\n",
       "      <td>17.399088</td>\n",
       "      <td>2.532959</td>\n",
       "    </tr>\n",
       "    <tr>\n",
       "      <th>1</th>\n",
       "      <td>2006-12-17</td>\n",
       "      <td>00:01:00</td>\n",
       "      <td>1.519531</td>\n",
       "      <td>0.219971</td>\n",
       "      <td>242.250</td>\n",
       "      <td>7.398438</td>\n",
       "      <td>0</td>\n",
       "      <td>1</td>\n",
       "      <td>0</td>\n",
       "      <td>2006-12-17 00:01:00</td>\n",
       "      <td>25.325521</td>\n",
       "      <td>3.666178</td>\n",
       "    </tr>\n",
       "    <tr>\n",
       "      <th>2</th>\n",
       "      <td>2006-12-17</td>\n",
       "      <td>00:02:00</td>\n",
       "      <td>3.037109</td>\n",
       "      <td>0.193970</td>\n",
       "      <td>240.125</td>\n",
       "      <td>12.601562</td>\n",
       "      <td>0</td>\n",
       "      <td>2</td>\n",
       "      <td>0</td>\n",
       "      <td>2006-12-17 00:02:00</td>\n",
       "      <td>50.618488</td>\n",
       "      <td>3.232829</td>\n",
       "    </tr>\n",
       "    <tr>\n",
       "      <th>3</th>\n",
       "      <td>2006-12-17</td>\n",
       "      <td>00:03:00</td>\n",
       "      <td>2.974609</td>\n",
       "      <td>0.193970</td>\n",
       "      <td>240.000</td>\n",
       "      <td>12.398438</td>\n",
       "      <td>0</td>\n",
       "      <td>1</td>\n",
       "      <td>0</td>\n",
       "      <td>2006-12-17 00:03:00</td>\n",
       "      <td>49.576824</td>\n",
       "      <td>3.232829</td>\n",
       "    </tr>\n",
       "    <tr>\n",
       "      <th>4</th>\n",
       "      <td>2006-12-17</td>\n",
       "      <td>00:04:00</td>\n",
       "      <td>2.845703</td>\n",
       "      <td>0.197998</td>\n",
       "      <td>240.375</td>\n",
       "      <td>11.796875</td>\n",
       "      <td>0</td>\n",
       "      <td>2</td>\n",
       "      <td>0</td>\n",
       "      <td>2006-12-17 00:04:00</td>\n",
       "      <td>47.428387</td>\n",
       "      <td>3.299968</td>\n",
       "    </tr>\n",
       "  </tbody>\n",
       "</table>\n",
       "</div>"
      ],
      "text/plain": [
       "        Date      Time  Global_active_power  Global_reactive_power  Voltage  \\\n",
       "0 2006-12-17  00:00:00             1.043945               0.151978  242.750   \n",
       "1 2006-12-17  00:01:00             1.519531               0.219971  242.250   \n",
       "2 2006-12-17  00:02:00             3.037109               0.193970  240.125   \n",
       "3 2006-12-17  00:03:00             2.974609               0.193970  240.000   \n",
       "4 2006-12-17  00:04:00             2.845703               0.197998  240.375   \n",
       "\n",
       "   Global_intensity  Sub_metering_1  Sub_metering_2  Sub_metering_3  \\\n",
       "0          4.398438               0               2               0   \n",
       "1          7.398438               0               1               0   \n",
       "2         12.601562               0               2               0   \n",
       "3         12.398438               0               1               0   \n",
       "4         11.796875               0               2               0   \n",
       "\n",
       "             DateTime  Global_active_energy  Global_reactive_energy  \n",
       "0 2006-12-17 00:00:00             17.399088                2.532959  \n",
       "1 2006-12-17 00:01:00             25.325521                3.666178  \n",
       "2 2006-12-17 00:02:00             50.618488                3.232829  \n",
       "3 2006-12-17 00:03:00             49.576824                3.232829  \n",
       "4 2006-12-17 00:04:00             47.428387                3.299968  "
      ]
     },
     "execution_count": 404,
     "metadata": {},
     "output_type": "execute_result"
    }
   ],
   "source": [
    "df.head()"
   ]
  },
  {
   "cell_type": "markdown",
   "id": "94e58a17",
   "metadata": {},
   "source": [
    "### Adding the target column\n",
    "- global_active_power*1000/60 - sub_metering_1 - sub_metering_2 - sub_metering_3\n",
    "- The above formula was provided by the dataset provider. We already calculated the Global_active_energy, so our formula would be `Global_active_energy - sub_metering_1 - sub_metering_2 - sub_metering_3`"
   ]
  },
  {
   "cell_type": "code",
   "execution_count": 407,
   "id": "9d23659e",
   "metadata": {},
   "outputs": [],
   "source": [
    "df['Active_Energy'] = df['Global_active_energy'] - df['Sub_metering_1'] - df['Sub_metering_2'] - df['Sub_metering_3']"
   ]
  },
  {
   "cell_type": "code",
   "execution_count": 408,
   "id": "8d77b480",
   "metadata": {},
   "outputs": [
    {
     "name": "stdout",
     "output_type": "stream",
     "text": [
      "New Memory usage of dataframe after changes is 100.85 MB\n"
     ]
    }
   ],
   "source": [
    "new_memory = df.memory_usage().sum() / 1024**2\n",
    "print('New Memory usage of dataframe after changes is {:.2f} MB'.format(new_memory))"
   ]
  },
  {
   "cell_type": "code",
   "execution_count": 415,
   "id": "d185ce09",
   "metadata": {},
   "outputs": [],
   "source": [
    "df = df[['DateTime', 'Date', 'Time', 'Global_active_power', 'Global_reactive_power',\n",
    "       'Voltage', 'Global_intensity', 'Sub_metering_1', 'Sub_metering_2',\n",
    "       'Sub_metering_3', 'Global_active_energy', 'Global_reactive_energy', 'Active_Energy']]"
   ]
  },
  {
   "cell_type": "code",
   "execution_count": 416,
   "id": "8667cd00",
   "metadata": {},
   "outputs": [
    {
     "data": {
      "text/plain": [
       "DateTime                  datetime64[ns]\n",
       "Date                      datetime64[ns]\n",
       "Time                              object\n",
       "Global_active_power              float16\n",
       "Global_reactive_power            float16\n",
       "Voltage                          float16\n",
       "Global_intensity                 float16\n",
       "Sub_metering_1                      Int8\n",
       "Sub_metering_2                      Int8\n",
       "Sub_metering_3                      Int8\n",
       "Global_active_energy             float32\n",
       "Global_reactive_energy           float32\n",
       "Active_Energy                    Float32\n",
       "dtype: object"
      ]
     },
     "execution_count": 416,
     "metadata": {},
     "output_type": "execute_result"
    }
   ],
   "source": [
    "df.dtypes"
   ]
  },
  {
   "cell_type": "code",
   "execution_count": null,
   "id": "23fc4349",
   "metadata": {},
   "outputs": [],
   "source": []
  },
  {
   "cell_type": "code",
   "execution_count": 419,
   "id": "33c99c8b",
   "metadata": {},
   "outputs": [],
   "source": [
    "df.to_csv('cleaned.csv', index=False)"
   ]
  },
  {
   "cell_type": "code",
   "execution_count": null,
   "id": "b7e8d7f5",
   "metadata": {},
   "outputs": [],
   "source": []
  },
  {
   "cell_type": "code",
   "execution_count": null,
   "id": "707f945e",
   "metadata": {},
   "outputs": [],
   "source": []
  }
 ],
 "metadata": {
  "kernelspec": {
   "display_name": "Python 3 (ipykernel)",
   "language": "python",
   "name": "python3"
  },
  "language_info": {
   "codemirror_mode": {
    "name": "ipython",
    "version": 3
   },
   "file_extension": ".py",
   "mimetype": "text/x-python",
   "name": "python",
   "nbconvert_exporter": "python",
   "pygments_lexer": "ipython3",
   "version": "3.9.13"
  }
 },
 "nbformat": 4,
 "nbformat_minor": 5
}
